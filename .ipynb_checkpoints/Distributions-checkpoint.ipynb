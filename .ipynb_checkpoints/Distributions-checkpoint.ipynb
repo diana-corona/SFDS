{
 "cells": [
  {
   "cell_type": "code",
   "execution_count": 401,
   "metadata": {},
   "outputs": [],
   "source": [
    "from scipy.stats import bernoulli\n",
    "from scipy.stats import binom\n",
    "from scipy.stats import poisson\n",
    "from scipy.stats import uniform\n",
    "from scipy.stats import beta\n",
    "from scipy.stats import expon\n",
    "from scipy.stats import norm\n",
    "from scipy.stats import nbinom\n",
    "from scipy.stats import chi2\n",
    "from scipy.stats import hypergeom\n",
    "import matplotlib.pyplot as plt\n",
    "import scipy.integrate as integrate\n",
    "from numpy import sqrt, sin, cos, pi\n",
    "import numpy as np"
   ]
  },
  {
   "cell_type": "markdown",
   "metadata": {},
   "source": [
    "## combinations\n",
    "Order doesnt matter"
   ]
  },
  {
   "cell_type": "code",
   "execution_count": 402,
   "metadata": {},
   "outputs": [
    {
     "name": "stdout",
     "output_type": "stream",
     "text": [
      "With repetition\n",
      "Result = 1140.0\n",
      "WithOUT repetition\n",
      "Result = 1540.0\n"
     ]
    }
   ],
   "source": [
    "n= 20 #number of options\n",
    "r= 3#number of picks \n",
    "print(f\"With repetition\")\n",
    "print(f\"Result = {np.math.factorial(n)/(np.math.factorial(r)*np.math.factorial(n-r))}\")\n",
    "print(f\"WithOUT repetition\")\n",
    "print(f\"Result = {np.math.factorial(r+n-1)/(np.math.factorial(r)*np.math.factorial(n-1))}\")"
   ]
  },
  {
   "cell_type": "markdown",
   "metadata": {},
   "source": [
    "## permutations\n",
    "Order  matter"
   ]
  },
  {
   "cell_type": "code",
   "execution_count": 403,
   "metadata": {},
   "outputs": [
    {
     "name": "stdout",
     "output_type": "stream",
     "text": [
      "With repetition\n",
      "Result = 3486784401\n",
      "WithOUT repetition\n",
      "Result = 6840.0\n"
     ]
    }
   ],
   "source": [
    "n= 20 #number of options\n",
    "r= 3#number of picks \n",
    "print(f\"With repetition\")\n",
    "print(f\"Result = {r**n}\")\n",
    "print(f\"WithOUT repetition\")\n",
    "print(f\"Result = {np.math.factorial(n)/(np.math.factorial(n-r))}\")"
   ]
  },
  {
   "cell_type": "markdown",
   "metadata": {},
   "source": [
    "## probability "
   ]
  },
  {
   "cell_type": "code",
   "execution_count": 404,
   "metadata": {},
   "outputs": [
    {
     "name": "stdout",
     "output_type": "stream",
     "text": [
      "P At least 2  positive 0.832\n",
      "P of exaclty 2  0.00672\n"
     ]
    },
    {
     "data": {
      "text/plain": [
       "0.041559288"
      ]
     },
     "execution_count": 404,
     "metadata": {},
     "output_type": "execute_result"
    }
   ],
   "source": [
    "ppos = 1/5\n",
    "pneg = 4/5\n",
    "nIpos = 2\n",
    "nIneg = 8\n",
    "print(f\"P At least {nIpos}  positive {round(1-(pneg**nIneg),3)}\")\n",
    "#print(f\"All {nIpos}  {round((ppos**nIpos),3)}\")\n",
    "print(f\"P of exaclty {nIpos}  {round((ppos**nIpos),3)*round((pneg**nIneg),3)}\")\n",
    "0.032855999999999996+0.065934*+0.132\n",
    "\n"
   ]
  },
  {
   "cell_type": "markdown",
   "metadata": {},
   "source": [
    "## BAYES"
   ]
  },
  {
   "cell_type": "code",
   "execution_count": 405,
   "metadata": {},
   "outputs": [
    {
     "name": "stdout",
     "output_type": "stream",
     "text": [
      "PAB: 3.0000000000000004\n"
     ]
    }
   ],
   "source": [
    "PA = .005\n",
    "PB = .15\n",
    "PBA = .90\n",
    "PAB = PBA * PA /PB\n",
    "print(f\"PAB: { PAB*100}\")"
   ]
  },
  {
   "cell_type": "markdown",
   "metadata": {},
   "source": [
    "##  VARIANCE, COVARIANCE , CORELATION"
   ]
  },
  {
   "cell_type": "code",
   "execution_count": 413,
   "metadata": {},
   "outputs": [
    {
     "name": "stdout",
     "output_type": "stream",
     "text": [
      "variance : 15.6875\n",
      "variance : 15.6875\n",
      "covariance : -2.2\n",
      "correlate : [[ 1.         -0.99385869]\n",
      " [-0.99385869  1.        ]]\n"
     ]
    }
   ],
   "source": [
    "A = [1, 6, 8, 12]\n",
    "variance = np.var(A)\n",
    "print(f\"variance : {variance}\")\n",
    "print(f\"variance : {np.sum(np.abs(A-np.average(A))**2)/len(A)}\")\n",
    "A = [5,2,1,3]\n",
    "B = [3,7,8,6]\n",
    "n = 5 \n",
    "covariance = np.sum((A-np.average(A))* (B- np.average(B)))/n\n",
    "print(f\"covariance : {covariance}\")\n",
    "\n",
    "A = [5,2,1,3]\n",
    "B = [3,7,8,6]\n",
    "corrcoef = np.corrcoef(A,B)\n",
    "print(f\"correlate : {corrcoef}\")"
   ]
  },
  {
   "cell_type": "markdown",
   "metadata": {},
   "source": [
    "## BERNOULI"
   ]
  },
  {
   "cell_type": "code",
   "execution_count": 407,
   "metadata": {},
   "outputs": [
    {
     "name": "stdout",
     "output_type": "stream",
     "text": [
      "mean : 0.8333333333333334\n",
      "var : 0.13888888888888887\n",
      "sd : 0.3726779962499649\n",
      "skew : -1.7888543819998337\n",
      "kurt : 1.200000000000017\n",
      "E (expected val) : 0.8333333333333334\n",
      "bernoulli.pmf(x, p): 0.0\n",
      "bernoulli.cdf(x, p): 1.0\n",
      "1-bernoulli.cdf(x, p): 0.0\n"
     ]
    },
    {
     "data": {
      "image/png": "[encoded data removed]",
      "text/plain": [
       "<Figure size 432x288 with 1 Axes>"
      ]
     },
     "metadata": {
      "needs_background": "light"
     },
     "output_type": "display_data"
    }
   ],
   "source": [
    "fig, ax = plt.subplots(1, 1)\n",
    "\n",
    "# p= probability of success \n",
    "# p = 1- q of failure \n",
    "p = 5/6\n",
    "x= 5\n",
    "mean, var, skew, kurt = bernoulli.stats(p, moments='mvsk')\n",
    "\n",
    "print(f\"mean : {mean}\")\n",
    "print(f\"var : {var}\")\n",
    "print(f\"sd : {var**(1/2)}\")\n",
    "print(f\"skew : {skew}\")\n",
    "print(f\"kurt : {kurt}\")\n",
    "print(f\"E (expected val) : {p}\")\n",
    "print(f\"bernoulli.pmf(x, p): {bernoulli.pmf(x, p)}\")\n",
    "print(f\"bernoulli.cdf(x, p): {bernoulli.cdf(x, p)}\")\n",
    "print(f\"1-bernoulli.cdf(x, p): {1-bernoulli.cdf(x, p)}\")\n",
    "\n",
    "bernoullix=  bernoulli.rvs(p=p,size=10000)\n",
    "\n",
    "ax.plot(bernoullix, bernoulli.pmf(bernoullix, p), 'bo', ms=8, label='bernoulli pmf')\n",
    "ax.vlines(bernoullix, 0, bernoulli.pmf(bernoullix, p), colors='b', lw=5, alpha=0.5)\n",
    "rv = bernoulli(p)\n",
    "ax.vlines(bernoullix, 0, rv.pmf(bernoullix), colors='k', linestyles='-', lw=1,\n",
    "        label='frozen pmf')\n",
    "ax.legend(loc='best', frameon=False)\n",
    "plt.show()"
   ]
  },
  {
   "cell_type": "markdown",
   "metadata": {},
   "source": [
    "## BINOMIAL - DISCRETE\n",
    "IS THE DISTRIBUTION OF THE NUMBER OF SUCCESSES"
   ]
  },
  {
   "cell_type": "code",
   "execution_count": 425,
   "metadata": {},
   "outputs": [
    {
     "name": "stdout",
     "output_type": "stream",
     "text": [
      "mean : 9.5\n",
      "var : 0.4750000000000004\n",
      "sd : 0.6892024376045114\n",
      "skew : -1.3058572501980203\n",
      "kurt : 1.5052631578947353\n",
      "E (expected val) : 9.5\n",
      "P binom.pmf(8, 0.95): 0.07463479852001964\n",
      "------------------------------------\n",
      "P Exactly(8): 0.07463479852001964\n",
      "------------------------------------\n",
      "P Where x <= 3'\n",
      "binom.cdf(x, p): 8.198398437500047e-08\n",
      "------------------------------------\n",
      "P Where x is at least  >8'\n",
      "binom.cdf(x, p): 0.9884964426207031\n",
      "------------------------------------\n",
      "Z: -12.777777777777779\n",
      "------------------------------------\n"
     ]
    },
    {
     "data": {
      "image/png": "[encoded data removed]",
      "text/plain": [
       "<Figure size 432x288 with 1 Axes>"
      ]
     },
     "metadata": {
      "needs_background": "light"
     },
     "output_type": "display_data"
    }
   ],
   "source": [
    "fig, ax = plt.subplots(1, 1)\n",
    "\n",
    "# n = sample of space  -> number of events   \n",
    "# x = number of trial (result)\n",
    "# p = probability\n",
    "n = 10\n",
    "x = 8\n",
    "p = 1-0.05\n",
    "mean, var, skew, kurt = binom.stats(n, p, moments='mvsk')\n",
    "\n",
    "print(f\"mean : {mean}\")\n",
    "print(f\"var : {var}\")\n",
    "print(f\"sd : {var**(1/2)}\")\n",
    "print(f\"skew : {skew}\")\n",
    "print(f\"kurt : {kurt}\")\n",
    "print(f\"E (expected val) : {n*p}\")\n",
    "print(f\"P binom.pmf({x}, {p}): {binom.pmf(x, n, p)}\")\n",
    "print(f\"------------------------------------\")\n",
    "print(f\"P Exactly({x}): {binom.pmf(x, n, p)}\")\n",
    "print(f\"------------------------------------\")\n",
    "x = 3\n",
    "print(f\"P Where x <= {x}'\")\n",
    "print(f\"binom.cdf(x, p): {binom.cdf(x, n, p)}\")\n",
    "print(f\"------------------------------------\")\n",
    "x = 7 #need to put a number less ex if at least 3 put 2 \n",
    "print(f\"P Where x is at least  >{x+1}'\")\n",
    "print(f\"binom.cdf(x, p): {1- binom.cdf(x, n, p)}\")\n",
    "print(f\"------------------------------------\")\n",
    "mean1 = 60\n",
    "x1= 175\n",
    "var1 = 9\n",
    "print(f\"Z: {(mean1-x1)/var1}\")\n",
    "print(f\"------------------------------------\")\n",
    "\n",
    "binomx=  binom.rvs(n=n,p=p,size=10000)\n",
    "ax.plot(binomx, binom.pmf(binomx, n, p), 'bo', ms=8, label='binom pmf')\n",
    "\n",
    "ax.vlines(binomx, 0, binom.pmf(binomx, n, p), colors='b', lw=5, alpha=0.5)\n",
    "\n",
    "rv = binom(n, p)\n",
    "\n",
    "ax.vlines(binomx, 0, rv.pmf(x), colors='r', linestyles='-', lw=1,\n",
    "        label='frozen pmf')\n",
    "\n",
    "ax.legend(loc='best', frameon=False)\n",
    "\n",
    "plt.show()"
   ]
  },
  {
   "cell_type": "markdown",
   "metadata": {},
   "source": [
    "## NEGATIVE BINOMIAL - DISCRETE\n",
    "(Geometric is the same as Negative Binomial (1, p))\n",
    "IS THE DISTRIBUTION OF THE NUMBER OF TRIALS NEEDED TO GET THE RTH SUCESS"
   ]
  },
  {
   "cell_type": "code",
   "execution_count": 409,
   "metadata": {},
   "outputs": [
    {
     "name": "stdout",
     "output_type": "stream",
     "text": [
      "mean : 1.0\n",
      "var : 2.0\n",
      "sd : 1.4142135623730951\n",
      "skew : 2.1213203435596424\n",
      "kurt : 6.5\n",
      "E (expected val) : 2.0\n",
      "P nbinom.pmf(1, 1, 0.5): 0.25\n",
      "------------------------------------\n",
      "P Where x <= 10'\n",
      "nbinom.cdf(x, p): 0.99951171875\n",
      "------------------------------------\n",
      "P Where x is at least  >10'\n",
      "nbinom.cdf(x, p): 0.00048828125\n",
      "------------------------------------\n",
      "Z: -12.777777777777779\n",
      "------------------------------------\n"
     ]
    },
    {
     "data": {
      "image/png": "[encoded data removed]",
      "text/plain": [
       "<Figure size 432x288 with 1 Axes>"
      ]
     },
     "metadata": {
      "needs_background": "light"
     },
     "output_type": "display_data"
    }
   ],
   "source": [
    "import matplotlib.pyplot as plt\n",
    "fig, ax = plt.subplots(1, 1)\n",
    "n = 1 # NUMBER OF TRIALS \n",
    "p = 0.5 #PROBABILITY OF SUCCESS \n",
    "x = 1 #RTH SUCCESS\n",
    "mean, var, skew, kurt = nbinom.stats(n, p, moments='mvsk')\n",
    "print(f\"mean : {mean}\")\n",
    "print(f\"var : {var}\")\n",
    "print(f\"sd : {var**(1/2)}\")\n",
    "print(f\"skew : {skew}\")\n",
    "print(f\"kurt : {kurt}\")\n",
    "print(f\"E (expected val) : {n/p}\")\n",
    "print(f\"P nbinom.pmf({x}, {n}, {p}): {nbinom.pmf(x, n, p)}\")\n",
    "print(f\"------------------------------------\")\n",
    "x = 10\n",
    "print(f\"P Where x <= {x}'\")\n",
    "print(f\"nbinom.cdf(x, p): {nbinom.cdf(x, n, p)}\")\n",
    "print(f\"------------------------------------\")\n",
    "x = 10\n",
    "print(f\"P Where x is at least  >{x}'\")\n",
    "print(f\"nbinom.cdf(x, p): {1- nbinom.cdf(x, n, p)}\")\n",
    "print(f\"------------------------------------\")\n",
    "mean1 = 60\n",
    "x1= 175\n",
    "var1 = 9\n",
    "print(f\"Z: {(mean1-x1)/var1}\")\n",
    "print(f\"------------------------------------\")\n",
    "\n",
    "nbinomx= nbinom.rvs(n=n, p=p, size=1000)\n",
    "\n",
    "ax.plot(nbinomx, nbinom.pmf(nbinomx, n, p), 'bo', ms=8, label='nbinom pmf')\n",
    "ax.vlines(nbinomx, 0, nbinom.pmf(nbinomx, n, p), colors='b', lw=5, alpha=0.5)\n",
    "rv = nbinom(n, p)\n",
    "ax.vlines(nbinomx, 0, rv.pmf(x), colors='k', linestyles='-', lw=1,\n",
    "        label='frozen pmf')\n",
    "ax.legend(loc='best', frameon=False)\n",
    "plt.show()"
   ]
  },
  {
   "cell_type": "markdown",
   "metadata": {},
   "source": [
    "## POISSON -DISCRETE"
   ]
  },
  {
   "cell_type": "code",
   "execution_count": 428,
   "metadata": {},
   "outputs": [
    {
     "name": "stdout",
     "output_type": "stream",
     "text": [
      "mean : 12.0\n",
      "var : 12.0\n",
      "sd : 3.4641016151377544\n",
      "skew : 0.28867513459481287\n",
      "kurt : 0.08333333333333333\n",
      "E (expected val) : 12\n",
      "------------------------------------\n",
      "P of 5 poisson.pmf(x, mu): 0.013\n",
      "------------------------------------\n",
      "P Where x <= 6'\n",
      "poisson.cdf(x, p): 0.04582230688865106\n",
      "------------------------------------\n",
      "P Where x is at least  >= 6'\n",
      "poisson.cdf(x, p): 0.9796589705830716\n",
      "------------------------------------\n",
      "Z: 0.5833333333333334\n",
      "------------------------------------\n",
      "------------------------------------\n",
      "X where the prob is 0.995'\n",
      "poisson.ppf(p): 22.0\n",
      "------------------------------------\n",
      "P Where x between 3 and 4'\n",
      ": 0.005308599473275569\n",
      "------------------------------------\n"
     ]
    },
    {
     "data": {
      "image/png": "[encoded data removed]",
      "text/plain": [
       "<Figure size 432x288 with 1 Axes>"
      ]
     },
     "metadata": {
      "needs_background": "light"
     },
     "output_type": "display_data"
    }
   ],
   "source": [
    "fig, ax = plt.subplots(1, 1)\n",
    "mu = 12 #average\n",
    "mean, var, skew, kurt = poisson.stats(mu, moments='mvsk')\n",
    "print(f\"mean : {mean}\")\n",
    "print(f\"var : {var}\")\n",
    "print(f\"sd : {var**(1/2)}\")\n",
    "print(f\"skew : {skew}\")\n",
    "print(f\"kurt : {kurt}\")\n",
    "print(f\"E (expected val) : {mu}\")\n",
    "print(f\"------------------------------------\")\n",
    "x = 5\n",
    "print(f\"P of {x} poisson.pmf(x, mu): {round(poisson.pmf(x, mu),3)}\")\n",
    "print(f\"------------------------------------\")\n",
    "x = 6\n",
    "print(f\"P Where x <= {x}'\") #means less than \n",
    "print(f\"poisson.cdf(x, p): {poisson.cdf(x, mu)}\")\n",
    "print(f\"------------------------------------\")\n",
    "x = 5 #means more than 9 is not included but 10 is\n",
    "print(f\"P Where x is at least  >= {x+1}'\") #means more than \n",
    "print(f\"poisson.cdf(x, p): {1- poisson.cdf(x, mu)}\")\n",
    "print(f\"------------------------------------\")\n",
    "mean1 = mean\n",
    "x1= x\n",
    "var1 = var\n",
    "print(f\"Z: {(mean1-x1)/var1}\")\n",
    "print(f\"------------------------------------\")\n",
    "#if want to know prov por hr change mu ex 12/24 = 0.5\n",
    "print(f\"------------------------------------\")\n",
    "mu = 12\n",
    "p = 1-.005 #given a percentil return the x value \n",
    "print(f\"X where the prob is {p}'\") #means more than \n",
    "print(f\"poisson.ppf(p): {poisson.ppf(p,mu)}\")\n",
    "#check new mu to know if prob is > 99\n",
    "print(f\"------------------------------------\")\n",
    "mu = 12\n",
    "x1=3\n",
    "x2=4\n",
    "print(f\"P Where x between {x1} and {x2}'\") #means more than \n",
    "print(f\": {poisson.cdf(x2,mu)- poisson.cdf(x1,mu)}\")\n",
    "print(f\"------------------------------------\")\n",
    "\n",
    "\n",
    "poissonx = poisson.rvs(mu, size=1000)\n",
    "\n",
    "ax.plot(poissonx, poisson.pmf(poissonx, mu), 'bo', ms=8, label='poisson pmf')\n",
    "ax.vlines(poissonx, 0, poisson.pmf(poissonx, mu), colors='b', lw=5, alpha=0.5)\n",
    "rv = poisson(mu)\n",
    "ax.vlines(poissonx, 0, rv.pmf(x), colors='k', linestyles='-', lw=1,\n",
    "        label='frozen pmf')\n",
    "ax.legend(loc='best', frameon=False)\n",
    "plt.show()"
   ]
  },
  {
   "cell_type": "markdown",
   "metadata": {},
   "source": [
    "## Uniform - Continous"
   ]
  },
  {
   "cell_type": "code",
   "execution_count": 416,
   "metadata": {},
   "outputs": [
    {
     "name": "stdout",
     "output_type": "stream",
     "text": [
      "mean : 6.0\n",
      "var : 5.333333333333333\n",
      "sd : 2.309401076758503\n",
      "skew : 0.0\n",
      "kurt : -1.2\n",
      "E (expected val) : 6.0\n",
      "------------------------------------\n",
      "P of x=  3 uniform.pmf(): 0.1\n",
      "------------------------------------\n",
      "P Where x <= 3'\n",
      "uniform.cdf(x): 0.1\n",
      "------------------------------------\n",
      "P Where x is at least  > 2'\n",
      "1- uniform.cdf(x): 1.0\n",
      "------------------------------------\n",
      "X where the prob is 0.65'\n",
      "uniform.ppf(p): 8.5\n",
      "------------------------------------\n",
      "P Where x between 480 and 500'\n",
      ": 0.0\n",
      "------------------------------------\n",
      "Z: -18.0\n",
      "------------------------------------\n",
      "X logcdf -inf'\n"
     ]
    },
    {
     "data": {
      "image/png": "[encoded data removed]",
      "text/plain": [
       "<Figure size 432x288 with 1 Axes>"
      ]
     },
     "metadata": {
      "needs_background": "light"
     },
     "output_type": "display_data"
    }
   ],
   "source": [
    "fig, ax = plt.subplots(1, 1)\n",
    "mean, var, skew, kurt = uniform.stats(moments='mvsk')\n",
    "x = 3\n",
    "loc =2  #inferior limit\n",
    "scale = 10 #superior limit\n",
    "print(f\"mean : {(loc+scale)/2}\")\n",
    "print(f\"var : {((scale-loc)**2)/12}\")\n",
    "print(f\"sd : {(((scale-loc)**2)/12)**(1/2)}\")\n",
    "print(f\"skew : {skew}\")\n",
    "print(f\"kurt : {kurt}\")\n",
    "print(f\"E (expected val) : {(loc+scale)/2}\")\n",
    "print(f\"------------------------------------\")\n",
    "print(f\"P of x=  {x} uniform.pmf(): {uniform.pdf(x, loc,scale)}\")\n",
    "print(f\"------------------------------------\")\n",
    "print(f\"P Where x <= {x}'\") #means less than \n",
    "print(f\"uniform.cdf(x): {uniform.cdf(x, loc,scale)}\")\n",
    "print(f\"------------------------------------\")\n",
    "x=2\n",
    "print(f\"P Where x is at least  > {x}'\") #means more than \n",
    "print(f\"1- uniform.cdf(x): {1- uniform.cdf(x, loc,scale)}\")\n",
    "print(f\"------------------------------------\")\n",
    "p = 0.65 #given a probavility return the x value \n",
    "print(f\"X where the prob is {p}'\") #means more than \n",
    "print(f\"uniform.ppf(p): {uniform.ppf(p,loc,scale)}\")\n",
    "print(f\"------------------------------------\")\n",
    "x1=480\n",
    "x2=500\n",
    "print(f\"P Where x between {x1} and {x2}'\") #means more than \n",
    "print(f\": {uniform.cdf(x2, loc,scale)- uniform.cdf(x1, loc,scale)}\")\n",
    "print(f\"------------------------------------\")\n",
    "mean1 = mean\n",
    "x1= x\n",
    "var1 = var\n",
    "print(f\"Z: {(mean1-x1)/var1}\")\n",
    "print(f\"------------------------------------\")\n",
    "print(f\"X logcdf {uniform.logcdf(x, loc=loc,scale=scale)}'\") #means more than \n",
    "\n",
    "uniformx = uniform.rvs(size=1000, loc=loc,scale=scale)\n",
    "\n",
    "ax.plot(uniformx, uniform.pdf(uniformx, loc=loc,scale=scale),'r-', lw=5, alpha=0.6, label='uniform pdf')\n",
    "a#x.plot(uniformx, uniform.cdf(uniformx, loc=loc,scale=scale), 'k-', lw=2, label='cdf')\n",
    "\n",
    "vals = uniform.ppf([0.001, 0.5, 0.999])\n",
    "np.allclose([0.001, 0.5, 0.999], uniform.cdf(vals))\n",
    "\n",
    "ax.hist(uniformx, density=True, histtype='stepfilled', alpha=0.2)\n",
    "ax.legend(loc='best', frameon=False)\n",
    "plt.show()"
   ]
  },
  {
   "cell_type": "markdown",
   "metadata": {},
   "source": [
    "## Beta - CONTINOUS"
   ]
  },
  {
   "cell_type": "code",
   "execution_count": 95,
   "metadata": {},
   "outputs": [
    {
     "name": "stdout",
     "output_type": "stream",
     "text": [
      "mean : 0.26\n",
      "var : 0.0016\n",
      "sd : 0.04\n",
      "skew : 0.19793814432989693\n",
      "kurt : 0.009208778698374566\n",
      "E (expected val) : 0.26\n",
      "------------------------------------\n",
      "P of x=  0.5 beta.pdf(): 4.5983198879414105e-06\n",
      "------------------------------------\n",
      "P Where x <= 0.5'\n",
      "beta.cdf(x): 0.9999999611581312\n",
      "------------------------------------\n",
      "P Where x is at least  >= 0.5'\n",
      "1- beta.cdf(x): 3.884186883240659e-08\n",
      "------------------------------------\n",
      "X where the prob is 0.99'\n",
      "beta.ppf(p): 0.35843290263944216\n",
      "------------------------------------\n",
      "Z: -150.0\n",
      "------------------------------------\n"
     ]
    },
    {
     "data": {
      "image/png": "[encoded data removed]",
      "text/plain": [
       "<Figure size 432x288 with 1 Axes>"
      ]
     },
     "metadata": {
      "needs_background": "light"
     },
     "output_type": "display_data"
    }
   ],
   "source": [
    "fig, ax = plt.subplots(1, 1)\n",
    "a = 31.005\n",
    "b = 88.245\n",
    "x = .5\n",
    "\n",
    "mean, var, skew, kurt = beta.stats(a, b, moments='mvsk')\n",
    "print(f\"mean : {mean}\")\n",
    "print(f\"var : {var}\")\n",
    "print(f\"sd : {var**(1/2)}\")\n",
    "print(f\"skew : {skew}\")\n",
    "print(f\"kurt : {kurt}\")\n",
    "print(f\"E (expected val) : {mean}\")\n",
    "print(f\"------------------------------------\")\n",
    "print(f\"P of x=  {x} beta.pdf(): {beta.pdf(x,a,b)}\")\n",
    "print(f\"------------------------------------\")\n",
    "print(f\"P Where x <= {x}'\") #means less than \n",
    "print(f\"beta.cdf(x): {beta.cdf(x, a,b)}\")\n",
    "print(f\"------------------------------------\")\n",
    "print(f\"P Where x is at least  >= {x}'\") #means more than \n",
    "print(f\"1- beta.cdf(x): {1- beta.cdf(x, a,b)}\")\n",
    "print(f\"------------------------------------\")\n",
    "p = .99 #given a probavility return the x value \n",
    "print(f\"X where the prob is {p}'\") #means more than \n",
    "print(f\"beta.ppf(p): {beta.ppf(p,a,b)}\")\n",
    "print(f\"------------------------------------\")\n",
    "mean1 = mean\n",
    "x1= x\n",
    "var1 = var\n",
    "print(f\"Z: {(mean1-x1)/var1}\")\n",
    "print(f\"------------------------------------\")\n",
    "\n",
    "betax = np.linspace(beta.ppf(0.01, a, b),\n",
    "                beta.ppf(0.99, a, b), 100)\n",
    "\n",
    "ax.plot(betax, beta.pdf(betax, a, b),'r-', lw=5, alpha=0.6, label='beta pdf')\n",
    "rv = beta(a, b)\n",
    "ax.plot(betax, beta.cdf(betax, a, b), 'k-', lw=2, label='cdf')\n",
    "r = beta.rvs(a, b, size=1000)\n",
    "ax.hist(r, density=True, histtype='stepfilled', alpha=0.2)\n",
    "ax.legend(loc='best', frameon=False)\n",
    "plt.show()"
   ]
  },
  {
   "cell_type": "markdown",
   "metadata": {},
   "source": [
    "## Exponential -CONTINOUS"
   ]
  },
  {
   "cell_type": "code",
   "execution_count": 326,
   "metadata": {},
   "outputs": [
    {
     "name": "stdout",
     "output_type": "stream",
     "text": [
      "mean : 1.0\n",
      "var : 1.0\n",
      "sd : 1.0\n",
      "skew : 2.0\n",
      "kurt : 6.0\n",
      "E (expected val) : 1.0\n",
      "------------------------------------\n",
      "P of x=  2 expon.pdf(): 0.13406400920712785\n",
      "------------------------------------\n",
      "P Where x <= 10'\n",
      "expon.cdf(x): 0.8646647167633873\n",
      "------------------------------------\n",
      "P Where x is at least  >= 2'\n",
      "1- expon.cdf(x): 0.6703200460356393\n",
      "------------------------------------\n",
      "P Where x between 2 and 3'\n",
      "1- expon.cdf(x): 0.12150840994161283\n",
      "------------------------------------\n",
      "z where the prob is 0.99'\n",
      "expon.ppf(p): 4.605170185988091\n",
      "------------------------------------\n",
      "Z: -1.0\n",
      "------------------------------------\n"
     ]
    },
    {
     "data": {
      "image/png": "[encoded data removed]",
      "text/plain": [
       "<Figure size 432x288 with 1 Axes>"
      ]
     },
     "metadata": {
      "needs_background": "light"
     },
     "output_type": "display_data"
    }
   ],
   "source": [
    "#is the inverse of poisson\n",
    "fig, ax = plt.subplots(1, 1)\n",
    "x=2\n",
    "lam = 5 #avg time\n",
    "mean, var, skew, kurt = expon.stats(moments='mvsk')\n",
    "print(f\"mean : {mean}\")\n",
    "print(f\"var : {var}\")\n",
    "print(f\"sd : {var**(1/2)}\")\n",
    "print(f\"skew : {skew}\")\n",
    "print(f\"kurt : {kurt}\")\n",
    "print(f\"E (expected val) : {mean}\")\n",
    "print(f\"------------------------------------\")\n",
    "print(f\"P of x=  {x} expon.pdf(): {expon.pdf(x,0,lam)}\")\n",
    "print(f\"------------------------------------\")\n",
    "x=10\n",
    "print(f\"P Where x <= {x}'\") #means less than \n",
    "print(f\"expon.cdf(x): {expon.cdf(x,0,lam)}\")\n",
    "print(f\"------------------------------------\")\n",
    "x=2\n",
    "print(f\"P Where x is at least  >= {x}'\") #means more than \n",
    "print(f\"1- expon.cdf(x): {1- expon.cdf(x,0,lam)}\")\n",
    "print(f\"------------------------------------\")\n",
    "x1=2\n",
    "x2=3\n",
    "print(f\"P Where x between {x1} and {x2}'\") #means more than \n",
    "print(f\"1- expon.cdf(x): {expon.cdf(x2,0,lam)- expon.cdf(x1,0,lam)}\")\n",
    "print(f\"------------------------------------\")\n",
    "p = .99 #given a probavility return the x value \n",
    "print(f\"z where the prob is {p}'\") #means more than \n",
    "print(f\"expon.ppf(p): {expon.ppf(p)}\")\n",
    "print(f\"------------------------------------\")\n",
    "mean1 = mean\n",
    "x1= x\n",
    "var1 = var\n",
    "print(f\"Z: {(mean1-x1)/var1}\")\n",
    "print(f\"------------------------------------\")\n",
    "\n",
    "exponx = np.linspace(expon.ppf(0.01),\n",
    "                expon.ppf(0.99), 100)\n",
    "ax.plot(exponx, expon.pdf(exponx),\n",
    "       'r-', lw=5, alpha=0.6, label='expon pdf')\n",
    "rv = expon()\n",
    "ax.plot(exponx, expon.cdf(exponx), 'k-', lw=2, label='cdf')\n",
    "r = expon.rvs(size=1000)\n",
    "ax.hist(r, density=True, histtype='stepfilled', alpha=0.2)\n",
    "ax.legend(loc='best', frameon=False)\n",
    "plt.show()"
   ]
  },
  {
   "cell_type": "markdown",
   "metadata": {},
   "source": [
    "## NORMAL - CONTINOUS\n",
    "for normal distributions with sample go to \n",
    "https://mathcracker.com/normal-probability-calculator-sampling-distributions#results\n"
   ]
  },
  {
   "cell_type": "code",
   "execution_count": 382,
   "metadata": {},
   "outputs": [
    {
     "name": "stdout",
     "output_type": "stream",
     "text": [
      "mean : 300.0\n",
      "var : 144.0\n",
      "sd : 12.0\n",
      "skew : 0.0\n",
      "kurt : 0.0\n",
      "E (expected val) : 300.0\n",
      "------------------------------------\n",
      "P of x=  306 norm.pdf(): 0.029338777230358295\n",
      "------------------------------------\n",
      "P Where x <= 6.289707253902945'\n",
      "norm.cdf(x): 1.3352764867443856e-132\n",
      "------------------------------------\n",
      "P Where x is at least  >= 5'\n",
      "1- norm.cdf(x): 1.0\n",
      "------------------------------------\n",
      "P Where x between 21 and 27'\n",
      ": 0.0026489166260515173\n",
      "------------------------------------\n",
      "x where the prob (percentil) is 0.050000000000000044'\n",
      "norm.ppf(p): 280.2617564765823\n",
      "value Z for Z table: -1.6448536269514722\n",
      "------------------------------------\n",
      "if in the (percentil)0.050000000000000044 whit z -1.6448536269514722 I want a value of 400 ,  I need the mean:\n",
      "380.2617564765823\n"
     ]
    },
    {
     "data": {
      "image/png": "[encoded data removed]",
      "text/plain": [
       "<Figure size 432x288 with 1 Axes>"
      ]
     },
     "metadata": {
      "needs_background": "light"
     },
     "output_type": "display_data"
    }
   ],
   "source": [
    "fig, ax = plt.subplots(1, 1)rt\n",
    "x = 306\n",
    "m = 300\n",
    "v = 144\n",
    "sd = v**(1/2)\n",
    "mean, var, skew, kurt = norm.stats(loc=m,scale=sd,moments='mvsk')\n",
    "print(f\"mean : {mean}\")\n",
    "print(f\"var : {var}\")\n",
    "print(f\"sd : {var**(1/2)}\")\n",
    "print(f\"skew : {skew}\")\n",
    "print(f\"kurt : {kurt}\")\n",
    "print(f\"E (expected val) : {mean}\")\n",
    "print(f\"------------------------------------\")\n",
    "print(f\"P of x=  {x} norm.pdf(): {norm.pdf(x,loc=m,scale=sd)}\")\n",
    "print(f\"------------------------------------\")\n",
    "x=6.289707253902945\n",
    "print(f\"P Where x <= {x}'\") #means less than \n",
    "print(f\"norm.cdf(x): {norm.cdf(x,loc=m,scale=sd)}\")\n",
    "print(f\"------------------------------------\")\n",
    "x=5\n",
    "print(f\"P Where x is at least  >= {x}'\") #means more than \n",
    "print(f\"1- norm.cdf(x): {1- norm.cdf(x,loc=m,scale=sd)}\")\n",
    "print(f\"------------------------------------\")\n",
    "x1=21\n",
    "x2=27\n",
    "print(f\"P Where x between {x1} and {x2}'\") #means more than \n",
    "print(f\": {norm(m,v).cdf(x2)- norm(m,v).cdf(x1)}\")\n",
    "print(f\"------------------------------------\")\n",
    "p = 1-0.95 #At least means 1- p, find m p(x>=m)=0.95 means 1-.95\n",
    "print(f\"x where the prob (percentil) is {p}'\") #means more than \n",
    "print(f\"norm.ppf(p): {norm.ppf(p,loc=m,scale=sd)}\") \n",
    "print(f\"value Z for Z table: {norm.ppf(p)}\") \n",
    "print(f\"------------------------------------\")\n",
    "p = 1-0.95\n",
    "z = norm.ppf(p)\n",
    "dVal= 400 # dVal = desired x value \n",
    "eMean = dVal + (z*sd)# eMean = expected mean \n",
    "print(f\"if in the (percentil){p} whit z {z} I want a value of {dVal} ,  I need the mean:\") #means more than \n",
    "print((f\"{eMean}\")) \n",
    "\n",
    "x = np.linspace(norm.ppf(0.01,loc=m,scale=sd),\n",
    "                norm.ppf(0.99,loc=m,scale=sd), 100)\n",
    "ax.plot(x, norm.pdf(x,loc=m,scale=sd),'r-', lw=5, alpha=0.6, label='norm pdf')\n",
    "\n",
    "#ax.plot(normx, norm.cdf(normx,loc=m,scale=sd), 'k-', lw=2, label='cdf')\n",
    "\n",
    "ax.hist(normx, density=True, histtype='stepfilled', alpha=0.2)\n",
    "ax.legend(loc='best', frameon=False)\n",
    "\n",
    "px=np.arange(m-sd,m+sd,0.01)\n",
    "ax.set_ylim(0,max(norm.pdf(normx,loc=m,scale=sd)))\n",
    "#ax.fill_between(px,norm.pdf(px,loc=m,scale=sd),alpha=0.5, color='g')\n",
    "# for text\n",
    "#ax.text(-1,0.1,\"cdf(x)\", fontsize=20)\n",
    "\n",
    "\n",
    "plt.show()"
   ]
  },
  {
   "cell_type": "markdown",
   "metadata": {},
   "source": [
    "## CHI - SQUARED - CONTINOUS"
   ]
  },
  {
   "cell_type": "code",
   "execution_count": 101,
   "metadata": {},
   "outputs": [
    {
     "name": "stdout",
     "output_type": "stream",
     "text": [
      "mean : 55.0\n",
      "var : 110.0\n",
      "sd : 10.488088481701515\n",
      "skew : 0.3813850356982369\n",
      "kurt : 0.21818181818181817\n",
      "E (expected val) : 55.0\n",
      "------------------------------------\n",
      "P of x= 30 df= 55 chi2.pdf(): 0.0010756741687713723\n",
      "------------------------------------\n",
      "P Where x <= 40'\n",
      "chi2.cdf(df): 0.12478121503252496\n",
      "------------------------------------\n",
      "P Where x is at least  >= 39'\n",
      "1- chi2.cdf(df): 0.849177889098826\n",
      "------------------------------------\n",
      "P Where x between 50 and 60'\n",
      ": 0.09459411969909515\n",
      "------------------------------------\n",
      "Z where the prob is 0.050000000000000044'\n",
      "chi2.ppf(p,df): 25.695390399574777\n",
      "------------------------------------\n",
      "xz: 20.321995477099428\n"
     ]
    },
    {
     "data": {
      "image/png": "[encoded data removed]",
      "text/plain": [
       "<Figure size 432x288 with 1 Axes>"
      ]
     },
     "metadata": {
      "needs_background": "light"
     },
     "output_type": "display_data"
    }
   ],
   "source": [
    "import matplotlib.pyplot as plt\n",
    "fig, ax = plt.subplots(1, 1)\n",
    "df = 55\n",
    "x= 30\n",
    "mean, var, skew, kurt = chi2.stats(df, moments='mvsk')\n",
    "\n",
    "print(f\"mean : {mean}\")\n",
    "print(f\"var : {var}\")\n",
    "print(f\"sd : {var**(1/2)}\")\n",
    "print(f\"skew : {skew}\")\n",
    "print(f\"kurt : {kurt}\")\n",
    "print(f\"E (expected val) : {mean}\")\n",
    "print(f\"------------------------------------\")\n",
    "print(f\"P of x= {x} df= {df} chi2.pdf(): {chi2.pdf(x,df)}\")\n",
    "print(f\"------------------------------------\")\n",
    "df=40\n",
    "print(f\"P Where x <= {df}'\") #means less than \n",
    "print(f\"chi2.cdf(df): {chi2.cdf(x,df)}\")\n",
    "print(f\"------------------------------------\")\n",
    "df=39\n",
    "print(f\"P Where x is at least  >= {df}'\") #means more than \n",
    "print(f\"1- chi2.cdf(df): {1- chi2.cdf(x,df)}\")\n",
    "print(f\"------------------------------------\")\n",
    "x1=50\n",
    "x2=60\n",
    "print(f\"P Where x between {x1} and {x2}'\") #means more than \n",
    "print(f\": {chi2.cdf(x2,df)- chi2.cdf(x1,df)}\")\n",
    "print(f\"------------------------------------\")\n",
    "p = 1- 0.95 #given a probavility return the x value  EX 95% of boxes contain at least what weight of cereal\n",
    "print(f\"Z where the prob is {p}'\") #means more than \n",
    "print(f\"chi2.ppf(p,df): {chi2.ppf(p,df)}\") \n",
    "print(f\"------------------------------------\")\n",
    "xz = m+(norm.ppf(p)*(sd)) #. Hence, 95% 0f boxes contain 395.42 grams or more.\n",
    "print(f\"xz: {xz}\")\n",
    "\n",
    "chi2x = np.linspace(chi2.ppf(0.01, df),\n",
    "                chi2.ppf(0.99, df), 100)\n",
    "ax.plot(chi2x, chi2.pdf(chi2x, df),\n",
    "       'r-', lw=5, alpha=0.6, label='chi2 pdf')\n",
    "rv = chi2(df)\n",
    "ax.plot(chi2x, rv.pdf(chi2x), 'k-', lw=2, label='cdf')\n",
    "r = chi2.rvs(df, size=1000)\n",
    "ax.hist(r, density=True, histtype='stepfilled', alpha=0.2)\n",
    "ax.legend(loc='best', frameon=False)\n",
    "plt.show()"
   ]
  },
  {
   "cell_type": "markdown",
   "metadata": {},
   "source": [
    "## HYPERGEOMETRIC - DISCRETE"
   ]
  },
  {
   "cell_type": "code",
   "execution_count": 281,
   "metadata": {},
   "outputs": [
    {
     "name": "stdout",
     "output_type": "stream",
     "text": [
      "mean : 1.8599999999999999\n",
      "var : 1.2185818181818182\n",
      "sd : 1.1038939342988612\n",
      "skew : 0.30910985122193585\n",
      "kurt : -0.21634654470297343\n",
      "E (expected val) : 0.0\n",
      "------------------------------------\n",
      "P of sample size 31 and x= 0 hypergeom.pmf(): 0.10056392822999907\n",
      "------------------------------------\n",
      "P of sample size 31 and Where x <= 50'\n",
      "hypergeom.cdf((k, M, n, N)): 1.0\n",
      "------------------------------------\n",
      "P of sample size 31 and Where x is at least  > 5'\n",
      "1- hypergeom.cdf(df): 0.000617658250609221\n",
      "------------------------------------\n",
      "P of sample size 31 and Where x between 1 and 3'\n",
      ": 0.5347952782948053\n",
      "------------------------------------\n",
      "Z where the prob is 0.99'\n",
      "hypergeom.ppf(p): 5.0\n"
     ]
    },
    {
     "data": {
      "image/png": "[encoded data removed]",
      "text/plain": [
       "<Figure size 432x288 with 1 Axes>"
      ]
     },
     "metadata": {
      "needs_background": "light"
     },
     "output_type": "display_data"
    }
   ],
   "source": [
    "M = 10 # M is the total number of objects,\n",
    "n = 8 # n is total number of Type I objects in N (6defective pieces)\n",
    "N = 31 # Sample size\n",
    "k = 0  #number of succeses ---  (want 0)\n",
    "mean, var, skew, kurt = hypergeom.stats(M=M, n=n, N=N, moments='mvsk')\n",
    "\n",
    "print(f\"mean : {mean}\")\n",
    "print(f\"var : {var}\")\n",
    "print(f\"sd : {var**(1/2)}\")\n",
    "print(f\"skew : {skew}\")\n",
    "print(f\"kurt : {kurt}\")\n",
    "print(f\"E (expected val) : {N*k/M}\")\n",
    "print(f\"------------------------------------\")\n",
    "print(f\"P of sample size {N} and x= {k} hypergeom.pmf(): {hypergeom.pmf(k, M=M, n=n, N=N)}\")\n",
    "print(f\"------------------------------------\")\n",
    "k= 50\n",
    "print(f\"P of sample size {N} and Where x <= {k}'\") #means less than \n",
    "print(f\"hypergeom.cdf((k, M, n, N)): {hypergeom.cdf(k, M, n, N)}\")\n",
    "print(f\"------------------------------------\")\n",
    "k= 5\n",
    "print(f\"P of sample size {N} and Where x is at least  > {k}'\") #means more than \n",
    "print(f\"1- hypergeom.cdf(df): {1- hypergeom.cdf(k, M, n, N)}\")\n",
    "print(f\"------------------------------------\")\n",
    "x1=1\n",
    "x2=3\n",
    "print(f\"P of sample size {N} and Where x between {x1} and {x2}'\") #means more than \n",
    "print(f\": {hypergeom.cdf(x2, M, n, N)- hypergeom.cdf(x1, M, n, N)}\")\n",
    "print(f\"------------------------------------\")\n",
    "p = 0.99 #given a probavility return the x value  EX 95% of boxes contain at least what weight of cereal\n",
    "print(f\"Z where the prob is {p}'\") #means more than \n",
    "print(f\"hypergeom.ppf(p): {hypergeom.ppf(p, M, n, N)}\") \n",
    "\n",
    "\n",
    "rv = hypergeom(M, n, N)\n",
    "x = np.arange(0, n)\n",
    "fig = plt.figure()\n",
    "ax = fig.add_subplot(111)\n",
    "ax.plot(x, rv.pmf(x), 'r-', lw=5, alpha=0.6, label=\"pdf\")\n",
    "ax.plot(x, rv.cdf(x), 'k-', lw=2, label='cdf')\n",
    "#ax.fill_between(x,rv.cdf(x),alpha=0.5, color='g')\n",
    "\n",
    "ax.set_xlabel('# in our group of chosen ')\n",
    "ax.set_ylabel('hypergeom PMF')\n",
    "ax.legend(loc='best', frameon=False)\n",
    "plt.show()"
   ]
  },
  {
   "cell_type": "code",
   "execution_count": null,
   "metadata": {},
   "outputs": [],
   "source": []
  }
 ],
 "metadata": {
  "kernelspec": {
   "display_name": "Python 3",
   "language": "python",
   "name": "python3"
  },
  "language_info": {
   "codemirror_mode": {
    "name": "ipython",
    "version": 3
   },
   "file_extension": ".py",
   "mimetype": "text/x-python",
   "name": "python",
   "nbconvert_exporter": "python",
   "pygments_lexer": "ipython3",
   "version": "3.7.3"
  }
 },
 "nbformat": 4,
 "nbformat_minor": 4
}
